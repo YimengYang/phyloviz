{
 "cells": [
  {
   "cell_type": "code",
   "execution_count": 1,
   "metadata": {},
   "outputs": [],
   "source": [
    "import numpy as np\n",
    "import pandas as pd\n",
    "from skbio import DistanceMatrix, TreeNode\n",
    "\n",
    "import sys\n",
    "sys.path.append('../')\n",
    "import phyloviz\n",
    "from phyloviz.ToyModel import ToyModel\n",
    "\n",
    "\n",
    "from scipy.cluster.hierarchy import ward, complete\n",
    "import pandas.util.testing as pdt"
   ]
  },
  {
   "cell_type": "code",
   "execution_count": 2,
   "metadata": {},
   "outputs": [],
   "source": [
    "np.random.seed(0)\n",
    "x = np.random.rand(10)\n",
    "dm = DistanceMatrix.from_iterable(x, lambda x, y: np.abs(x-y))\n",
    "lm = complete(dm.condensed_form())\n",
    "ids = np.arange(len(x)).astype(np.str)\n",
    "tree = TreeNode.from_linkage_matrix(lm, ids)\n",
    "\n",
    "# initialize tree with branch length and named internal nodes\n",
    "for i, n in enumerate(tree.postorder(include_self=True)):\n",
    "    n.length = 1\n",
    "    if not n.is_tip():\n",
    "        n.name = \"y%d\" % i"
   ]
  },
  {
   "cell_type": "code",
   "execution_count": 3,
   "metadata": {},
   "outputs": [
    {
     "data": {
      "text/plain": [
       "79.223492618646006"
      ]
     },
     "execution_count": 3,
     "metadata": {},
     "output_type": "execute_result"
    }
   ],
   "source": [
    "t = ToyModel.from_tree(tree)\n",
    "t.rescale(500,500)"
   ]
  },
  {
   "cell_type": "code",
   "execution_count": 4,
   "metadata": {},
   "outputs": [
    {
     "data": {
      "text/plain": [
       "[(-0.59847214410395655, -1.6334372886412185),\n",
       " (-0.99749498660405445, -0.76155647142658189),\n",
       " (1.0504174348855488, 0.34902579063315775),\n",
       " (2.8507394969018511, 0.88932809650129752),\n",
       " (3.3688089449017027, 0.082482736278627664),\n",
       " (0.67135946132440838, -2.4180787481253012),\n",
       " (-1.9936226804402346, -2.9233732552695497),\n",
       " (-2.6203695704157117, -2.1977123674095331),\n",
       " (-1.8709927812120046, 0.33556711382648474),\n",
       " (-0.95033246755379708, 0.60348496526324824)]"
      ]
     },
     "execution_count": 4,
     "metadata": {},
     "output_type": "execute_result"
    }
   ],
   "source": [
    "t.update_coordinates(1,0,0,2,1)"
   ]
  },
  {
   "cell_type": "code",
   "execution_count": 5,
   "metadata": {},
   "outputs": [],
   "source": [
    "node, edge = t.coords(500,500)\n"
   ]
  },
  {
   "cell_type": "code",
   "execution_count": 6,
   "metadata": {},
   "outputs": [],
   "source": [
    "type(node)\n",
    "strnode = node.to_string()\n",
    "node_dict=node.to_dict('split')\n"
   ]
  },
  {
   "cell_type": "code",
   "execution_count": 7,
   "metadata": {},
   "outputs": [
    {
     "name": "stdout",
     "output_type": "stream",
     "text": [
      "    Node id        x        y\n",
      "0         0  474.827  283.253\n",
      "1         1  286.291  321.953\n",
      "2         2  436.577  103.301\n",
      "3         3    487.5  235.958\n",
      "4         4     12.5  418.294\n",
      "5         5  395.514  76.6334\n",
      "6         6  53.5637  444.961\n",
      "7         7  50.6796  55.0393\n",
      "8         8  12.6283  85.8526\n",
      "9         9  38.1015   306.14\n",
      "y11     y11  408.385  240.104\n",
      "y14     y14  375.009  153.157\n",
      "y15     y15  331.861    219.6\n",
      "y16     y16    257.9  247.991\n",
      "y17     y17  178.785  252.137\n",
      "y18     y18  128.928  190.569\n",
      "y2       y2  79.0707  129.001\n",
      "y6       y6  74.0682  368.437\n",
      "y7       y7  117.216  301.994\n"
     ]
    }
   ],
   "source": [
    "print (node)"
   ]
  },
  {
   "cell_type": "code",
   "execution_count": 11,
   "metadata": {},
   "outputs": [
    {
     "name": "stdout",
     "output_type": "stream",
     "text": [
      "{'columns': ['Node id', 'Parent id', 'px', 'py', 'x', 'y'], 'index': ['0', '1', '2', '3', '4', '5', '6', '7', '8', '9', 'y11', 'y14', 'y15', 'y16', 'y17', 'y2', 'y6', 'y7'], 'data': [['0', 'y11', 408.3850804246091, 240.10442497874831, 474.82749197370902, 283.25263154908782], ['1', 'y16', 257.89956082792412, 247.99103687506513, 286.29072143348549, 321.95253890257857], ['2', 'y14', 375.00926942577706, 153.15746472040379, 436.57748676687396, 103.30050536530359], ['3', 'y11', 408.3850804246091, 240.10442497874831, 487.5, 235.95818773564568], ['4', 'y6', 74.068217341096869, 368.43664502236788, 12.499999999999979, 418.29360437746811], ['5', 'y14', 375.00926942577706, 153.15746472040379, 395.51381813502167, 76.633447151232261], ['6', 'y6', 74.068217341096869, 368.43664502236788, 53.563668631852295, 444.9606625915394], ['7', 'y2', 79.070722542332845, 129.00083943597397, 50.679561936771449, 55.039337408460526], ['8', 'y2', 79.070722542332845, 129.00083943597397, 12.628310993232901, 85.85263286563449], ['9', 'y7', 117.21642391143635, 301.99423347326797, 38.10150433604548, 306.1404707163706], ['y11', 'y15', 331.86106285543758, 219.59987626950374, 408.3850804246091, 240.10442497874831], ['y14', 'y15', 331.86106285543758, 219.59987626950374, 375.00926942577706, 153.15746472040379], ['y15', 'y16', 257.89956082792412, 247.99103687506513, 331.86106285543758, 219.59987626950374], ['y16', 'y17', 178.78464125253325, 252.13727411816777, 257.89956082792412, 247.99103687506513], ['y17', 'y18', 128.92768189743305, 190.56905677707087, 178.78464125253325, 252.13727411816777], ['y2', 'y18', 128.92768189743305, 190.56905677707087, 79.070722542332845, 129.00083943597397], ['y6', 'y7', 117.21642391143635, 301.99423347326797, 74.068217341096869, 368.43664502236788], ['y7', 'y17', 178.78464125253325, 252.13727411816777, 117.21642391143635, 301.99423347326797]]}\n"
     ]
    }
   ],
   "source": [
    "print(edge.to_dict('split'))"
   ]
  },
  {
   "cell_type": "code",
   "execution_count": 10,
   "metadata": {},
   "outputs": [
    {
     "name": "stdout",
     "output_type": "stream",
     "text": [
      "{'columns': ['Node id', 'x', 'y'], 'index': ['0', '1', '2', '3', '4', '5', '6', '7', '8', '9', 'y11', 'y14', 'y15', 'y16', 'y17', 'y18', 'y2', 'y6', 'y7'], 'data': [['0', 474.82749197370902, 283.25263154908782], ['1', 286.29072143348549, 321.95253890257857], ['2', 436.57748676687396, 103.30050536530359], ['3', 487.5, 235.95818773564568], ['4', 12.499999999999979, 418.29360437746811], ['5', 395.51381813502167, 76.633447151232261], ['6', 53.563668631852295, 444.9606625915394], ['7', 50.679561936771449, 55.039337408460526], ['8', 12.628310993232901, 85.85263286563449], ['9', 38.10150433604548, 306.1404707163706], ['y11', 408.3850804246091, 240.10442497874831], ['y14', 375.00926942577706, 153.15746472040379], ['y15', 331.86106285543758, 219.59987626950374], ['y16', 257.89956082792412, 247.99103687506513], ['y17', 178.78464125253325, 252.13727411816777], ['y18', 128.92768189743305, 190.56905677707087], ['y2', 79.070722542332845, 129.00083943597397], ['y6', 74.068217341096869, 368.43664502236788], ['y7', 117.21642391143635, 301.99423347326797]]}\n"
     ]
    }
   ],
   "source": [
    "print(node_dict)"
   ]
  },
  {
   "cell_type": "code",
   "execution_count": 14,
   "metadata": {},
   "outputs": [
    {
     "data": {
      "text/html": [
       "<div>\n",
       "<table border=\"1\" class=\"dataframe\">\n",
       "  <thead>\n",
       "    <tr style=\"text-align: right;\">\n",
       "      <th></th>\n",
       "      <th>x</th>\n",
       "      <th>y</th>\n",
       "      <th>child0</th>\n",
       "      <th>child1</th>\n",
       "      <th>is_tip</th>\n",
       "    </tr>\n",
       "  </thead>\n",
       "  <tbody>\n",
       "    <tr>\n",
       "      <th>0</th>\n",
       "      <td>404.097</td>\n",
       "      <td>396.979</td>\n",
       "      <td>NaN</td>\n",
       "      <td>NaN</td>\n",
       "      <td>True</td>\n",
       "    </tr>\n",
       "    <tr>\n",
       "      <th>1</th>\n",
       "      <td>464.724</td>\n",
       "      <td>174.338</td>\n",
       "      <td>NaN</td>\n",
       "      <td>NaN</td>\n",
       "      <td>True</td>\n",
       "    </tr>\n",
       "    <tr>\n",
       "      <th>2</th>\n",
       "      <td>487.5</td>\n",
       "      <td>43.2804</td>\n",
       "      <td>NaN</td>\n",
       "      <td>NaN</td>\n",
       "      <td>True</td>\n",
       "    </tr>\n",
       "    <tr>\n",
       "      <th>3</th>\n",
       "      <td>446.172</td>\n",
       "      <td>359.095</td>\n",
       "      <td>NaN</td>\n",
       "      <td>NaN</td>\n",
       "      <td>True</td>\n",
       "    </tr>\n",
       "    <tr>\n",
       "      <th>4</th>\n",
       "      <td>32.4704</td>\n",
       "      <td>456.72</td>\n",
       "      <td>NaN</td>\n",
       "      <td>NaN</td>\n",
       "      <td>True</td>\n",
       "    </tr>\n",
       "    <tr>\n",
       "      <th>5</th>\n",
       "      <td>438.468</td>\n",
       "      <td>14.9717</td>\n",
       "      <td>NaN</td>\n",
       "      <td>NaN</td>\n",
       "      <td>True</td>\n",
       "    </tr>\n",
       "    <tr>\n",
       "      <th>6</th>\n",
       "      <td>81.5024</td>\n",
       "      <td>485.028</td>\n",
       "      <td>NaN</td>\n",
       "      <td>NaN</td>\n",
       "      <td>True</td>\n",
       "    </tr>\n",
       "    <tr>\n",
       "      <th>7</th>\n",
       "      <td>54.5748</td>\n",
       "      <td>34.9421</td>\n",
       "      <td>NaN</td>\n",
       "      <td>NaN</td>\n",
       "      <td>True</td>\n",
       "    </tr>\n",
       "    <tr>\n",
       "      <th>8</th>\n",
       "      <td>12.5</td>\n",
       "      <td>72.8265</td>\n",
       "      <td>NaN</td>\n",
       "      <td>NaN</td>\n",
       "      <td>True</td>\n",
       "    </tr>\n",
       "    <tr>\n",
       "      <th>9</th>\n",
       "      <td>55.2464</td>\n",
       "      <td>325.662</td>\n",
       "      <td>NaN</td>\n",
       "      <td>NaN</td>\n",
       "      <td>True</td>\n",
       "    </tr>\n",
       "    <tr>\n",
       "      <th>y10</th>\n",
       "      <td>366.837</td>\n",
       "      <td>313.291</td>\n",
       "      <td>0</td>\n",
       "      <td>3</td>\n",
       "      <td>False</td>\n",
       "    </tr>\n",
       "    <tr>\n",
       "      <th>y14</th>\n",
       "      <td>419.421</td>\n",
       "      <td>104.579</td>\n",
       "      <td>2</td>\n",
       "      <td>5</td>\n",
       "      <td>False</td>\n",
       "    </tr>\n",
       "    <tr>\n",
       "      <th>y15</th>\n",
       "      <td>373.617</td>\n",
       "      <td>183.914</td>\n",
       "      <td>1</td>\n",
       "      <td>y14</td>\n",
       "      <td>False</td>\n",
       "    </tr>\n",
       "    <tr>\n",
       "      <th>y16</th>\n",
       "      <td>305.539</td>\n",
       "      <td>245.212</td>\n",
       "      <td>y10</td>\n",
       "      <td>y15</td>\n",
       "      <td>False</td>\n",
       "    </tr>\n",
       "    <tr>\n",
       "      <th>y17</th>\n",
       "      <td>214.432</td>\n",
       "      <td>254.788</td>\n",
       "      <td>y7</td>\n",
       "      <td>y16</td>\n",
       "      <td>False</td>\n",
       "    </tr>\n",
       "    <tr>\n",
       "      <th>y18</th>\n",
       "      <td>153.134</td>\n",
       "      <td>186.709</td>\n",
       "      <td>y2</td>\n",
       "      <td>y17</td>\n",
       "      <td>False</td>\n",
       "    </tr>\n",
       "    <tr>\n",
       "      <th>y2</th>\n",
       "      <td>91.8354</td>\n",
       "      <td>118.631</td>\n",
       "      <td>7</td>\n",
       "      <td>8</td>\n",
       "      <td>False</td>\n",
       "    </tr>\n",
       "    <tr>\n",
       "      <th>y6</th>\n",
       "      <td>100.549</td>\n",
       "      <td>395.421</td>\n",
       "      <td>4</td>\n",
       "      <td>6</td>\n",
       "      <td>False</td>\n",
       "    </tr>\n",
       "    <tr>\n",
       "      <th>y7</th>\n",
       "      <td>146.353</td>\n",
       "      <td>316.086</td>\n",
       "      <td>9</td>\n",
       "      <td>y6</td>\n",
       "      <td>False</td>\n",
       "    </tr>\n",
       "  </tbody>\n",
       "</table>\n",
       "</div>"
      ],
      "text/plain": [
       "           x        y child0 child1 is_tip\n",
       "0    404.097  396.979    NaN    NaN   True\n",
       "1    464.724  174.338    NaN    NaN   True\n",
       "2      487.5  43.2804    NaN    NaN   True\n",
       "3    446.172  359.095    NaN    NaN   True\n",
       "4    32.4704   456.72    NaN    NaN   True\n",
       "5    438.468  14.9717    NaN    NaN   True\n",
       "6    81.5024  485.028    NaN    NaN   True\n",
       "7    54.5748  34.9421    NaN    NaN   True\n",
       "8       12.5  72.8265    NaN    NaN   True\n",
       "9    55.2464  325.662    NaN    NaN   True\n",
       "y10  366.837  313.291      0      3  False\n",
       "y14  419.421  104.579      2      5  False\n",
       "y15  373.617  183.914      1    y14  False\n",
       "y16  305.539  245.212    y10    y15  False\n",
       "y17  214.432  254.788     y7    y16  False\n",
       "y18  153.134  186.709     y2    y17  False\n",
       "y2   91.8354  118.631      7      8  False\n",
       "y6   100.549  395.421      4      6  False\n",
       "y7   146.353  316.086      9     y6  False"
      ]
     },
     "execution_count": 14,
     "metadata": {},
     "output_type": "execute_result"
    }
   ],
   "source": [
    "df = pd.DataFrame({'0': [404.097, 396.979, np.nan, np.nan, True],\n",
    "                            '1': [464.724, 174.338, np.nan, np.nan, True],\n",
    "                            '2': [487.5, 43.2804, np.nan, np.nan, True],\n",
    "                            '3': [446.172, 359.095, np.nan, np.nan, True],\n",
    "                            '4': [32.4704, 456.72, np.nan, np.nan, True],\n",
    "                            '5': [438.468, 14.9717, np.nan, np.nan, True],\n",
    "                            '6': [81.5024, 485.028, np.nan, np.nan, True],\n",
    "                            '7': [54.5748, 34.9421, np.nan, np.nan, True],\n",
    "                            '8': [12.5, 72.8265, np.nan, np.nan, True],\n",
    "                            '9': [55.2464, 325.662, np.nan, np.nan, True],\n",
    "                            'y10': [366.837, 313.291, '0', '3', False],\n",
    "                            'y14': [419.421, 104.579, '2', '5', False],\n",
    "                            'y15': [373.617, 183.914, '1', 'y14', False],\n",
    "                            'y16': [305.539, 245.212, 'y10', 'y15', False],\n",
    "                            'y17': [214.432, 254.788, 'y7', 'y16', False],\n",
    "                            'y18': [153.134, 186.709, 'y2', 'y17', False],\n",
    "                            'y2': [91.8354, 118.631, '7', '8', False],\n",
    "                            'y6': [100.549, 395.421, '4', '6', False],\n",
    "                            'y7': [146.353, 316.086, '9', 'y6', False]},\n",
    "                           index=['x', 'y', 'child0', 'child1', 'is_tip']).T\n",
    "df"
   ]
  },
  {
   "cell_type": "code",
   "execution_count": null,
   "metadata": {},
   "outputs": [],
   "source": []
  },
  {
   "cell_type": "code",
   "execution_count": null,
   "metadata": {},
   "outputs": [],
   "source": []
  }
 ],
 "metadata": {
  "kernelspec": {
   "display_name": "Python 3",
   "language": "python",
   "name": "python3"
  },
  "language_info": {
   "codemirror_mode": {
    "name": "ipython",
    "version": 3
   },
   "file_extension": ".py",
   "mimetype": "text/x-python",
   "name": "python",
   "nbconvert_exporter": "python",
   "pygments_lexer": "ipython3",
   "version": "3.5.2"
  }
 },
 "nbformat": 4,
 "nbformat_minor": 2
}
