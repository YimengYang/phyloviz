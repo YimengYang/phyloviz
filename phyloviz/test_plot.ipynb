{
 "cells": [
  {
   "cell_type": "code",
   "execution_count": 4,
   "metadata": {},
   "outputs": [],
   "source": [
    "import numpy as np\n",
    "import pandas as pd\n",
    "from skbio import DistanceMatrix, TreeNode\n",
    "\n",
    "from scipy.cluster.hierarchy import ward\n",
    "import pandas.util.testing as pdt"
   ]
  },
  {
   "cell_type": "code",
   "execution_count": 8,
   "metadata": {},
   "outputs": [],
   "source": [
    "np.random.seed(0)\n",
    "x = np.random.rand(10)\n",
    "dm = DistanceMatrix.from_iterable(x, lambda x, y: np.abs(x-y))\n",
    "lm = ward(dm.condensed_form())\n",
    "ids = np.arange(len(x)).astype(np.str)\n",
    "tree = TreeNode.from_linkage_matrix(lm, ids)\n",
    "\n",
    "# initialize tree with branch length and named internal nodes\n",
    "for i, n in enumerate(tree.postorder(include_self=True)):\n",
    "    n.length = 1\n",
    "    if not n.is_tip():\n",
    "        n.name = \"y%d\" % i"
   ]
  },
  {
   "cell_type": "code",
   "execution_count": null,
   "metadata": {},
   "outputs": [],
   "source": []
  }
 ],
 "metadata": {
  "kernelspec": {
   "display_name": "Python 3",
   "language": "python",
   "name": "python3"
  },
  "language_info": {
   "codemirror_mode": {
    "name": "ipython",
    "version": 3
   },
   "file_extension": ".py",
   "mimetype": "text/x-python",
   "name": "python",
   "nbconvert_exporter": "python",
   "pygments_lexer": "ipython3",
   "version": "3.6.2"
  }
 },
 "nbformat": 4,
 "nbformat_minor": 2
}
